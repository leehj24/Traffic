{
 "cells": [
  {
   "cell_type": "code",
   "execution_count": 1,
   "metadata": {},
   "outputs": [],
   "source": [
    "# %% 라이브러리 및 설정 불러오기\n",
    "import pandas as pd\n",
    "import numpy as np\n",
    "import os\n",
    "import matplotlib.pyplot as plt\n",
    "from sklearn.ensemble import RandomForestClassifier\n",
    "from sklearn.model_selection import train_test_split\n",
    "from sklearn.metrics import accuracy_score, roc_auc_score\n",
    "\n",
    "# 한글 폰트 설정 (Windows: 'Malgun Gothic')\n",
    "plt.rcParams['font.family'] = 'Malgun Gothic'\n",
    "plt.rcParams['axes.unicode_minus'] = False"
   ]
  },
  {
   "cell_type": "code",
   "execution_count": 2,
   "metadata": {},
   "outputs": [],
   "source": [
    "# %% 데이터 파일 경로 및 파일명 설정\n",
    "base_path = r\"C:\\Users\\hyunj\\Traffic\\dataset\"\n",
    "# 불법 단속 현황 CSV (단속일시, 단속장소 등 포함)\n",
    "illegal_file = \"서울특별시 광진구_주정차단속현황_20250310.csv\"\n",
    "# 기존 CCTV 위치 정보 CSV (단속지점명 등 포함)\n",
    "cctv_file = \"서울시 광진구 불법주정차 위반 단속 CCTV 위치정보.csv\"\n",
    "# 추가 특성 데이터 CSV들 (예: 도심, 시계, 요일별, 월별)\n",
    "city_file = \"csv_output/도심.csv\"\n",
    "clock_file = \"csv_output/시계.csv\"\n",
    "weekday_file = \"csv_output/요일별.csv\"\n",
    "month_file = \"csv_output/월별.csv\""
   ]
  },
  {
   "cell_type": "code",
   "execution_count": 3,
   "metadata": {},
   "outputs": [],
   "source": [
    "# %% CSV 파일 로드 (인코딩: cp949)\n",
    "try:\n",
    "\tillegal_df = pd.read_csv(os.path.join(base_path, illegal_file), encoding='cp949')\n",
    "\tcctv_df = pd.read_csv(os.path.join(base_path, cctv_file), encoding='cp949')\n",
    "\tcity_df = pd.read_csv(os.path.join(base_path, city_file), encoding='cp949')\n",
    "\tclock_df = pd.read_csv(os.path.join(base_path, clock_file), encoding='cp949')\n",
    "\tweekday_df = pd.read_csv(os.path.join(base_path, weekday_file), encoding='cp949')\n",
    "\tmonth_df = pd.read_csv(os.path.join(base_path, month_file), encoding='cp949')\n",
    "except FileNotFoundError as e:\n",
    "\tprint(f\"파일을 찾을 수 없습니다: {e.filename}\")\n",
    "\t# 필요한 경우, 대체 동작을 추가하세요 (예: 빈 DataFrame 생성)\n",
    "\tif '도심.csv' in str(e):\n",
    "\t\tcity_df = pd.DataFrame(columns=['단속장소', '도심교통량'])\n",
    "\telif '시계.csv' in str(e):\n",
    "\t\tclock_df = pd.DataFrame(columns=['단속장소', '시계교통량'])\n",
    "\telif '요일별.csv' in str(e):\n",
    "\t\tweekday_df = pd.DataFrame(columns=['단속장소', '요일특성'])\n",
    "\telif '월별.csv' in str(e):\n",
    "\t\tmonth_df = pd.DataFrame(columns=['단속장소', '월별특성'])\n",
    "\telse:\n",
    "\t\traise\n"
   ]
  },
  {
   "cell_type": "code",
   "execution_count": 4,
   "metadata": {},
   "outputs": [],
   "source": [
    "# %% 불법 주정차 단속 데이터 전처리\n",
    "# '단속일시'를 datetime 형식으로 변환하고, 결측치 제거\n",
    "illegal_df['단속일시'] = pd.to_datetime(illegal_df['단속일시'], errors='coerce')\n",
    "illegal_df = illegal_df.dropna(subset=['단속일시'])\n",
    "# 단속장소별 불법 건수 집계\n",
    "illegal_counts = illegal_df['단속장소'].dropna() \\\n",
    "    .value_counts() \\\n",
    "    .rename_axis('단속장소') \\\n",
    "    .reset_index(name='불법건수')\n"
   ]
  },
  {
   "cell_type": "code",
   "execution_count": 5,
   "metadata": {},
   "outputs": [],
   "source": [
    "# %% CCTV 데이터 전처리\n",
    "# '단속지점명'을 기준으로 기존 CCTV 설치 건수 집계\n",
    "cctv_counts = cctv_df['단속지점명'].dropna() \\\n",
    "    .value_counts() \\\n",
    "    .rename_axis('단속장소') \\\n",
    "    .reset_index(name='CCTV수')"
   ]
  },
  {
   "cell_type": "code",
   "execution_count": 6,
   "metadata": {},
   "outputs": [],
   "source": [
    "# 각 CSV가 단속장소 기준으로 특성을 제공한다고 가정합니다.\n",
    "# (실제 컬럼명이 다르다면 적절히 수정하세요.)\n",
    "# 예시로, 도심.csv는 ['단속장소', '도심교통량'] 컬럼을,\n",
    "# 시계.csv는 ['단속장소', '시계교통량'] 컬럼을,\n",
    "# 요일별.csv는 ['단속장소', '요일특성'] 컬럼을,\n",
    "# 월별.csv는 ['단속장소', '월별특성'] 컬럼을 가지고 있다고 가정합니다.\n",
    "if '도심교통량' not in city_df.columns:\n",
    "    city_df.rename(columns={city_df.columns[1]: '도심교통량'}, inplace=True)\n",
    "if '시계교통량' not in clock_df.columns:\n",
    "    clock_df.rename(columns={clock_df.columns[1]: '시계교통량'}, inplace=True)\n",
    "if '요일특성' not in weekday_df.columns:\n",
    "    weekday_df.rename(columns={weekday_df.columns[1]: '요일특성'}, inplace=True)\n",
    "if '월별특성' not in month_df.columns:\n",
    "    month_df.rename(columns={month_df.columns[1]: '월별특성'}, inplace=True)"
   ]
  },
  {
   "cell_type": "code",
   "execution_count": 7,
   "metadata": {},
   "outputs": [
    {
     "name": "stderr",
     "output_type": "stream",
     "text": [
      "c:\\Users\\hyunj\\anaconda3\\Lib\\site-packages\\numpy\\lib\\nanfunctions.py:1215: RuntimeWarning: Mean of empty slice\n",
      "  return np.nanmean(a, axis, out=out, keepdims=keepdims)\n",
      "C:\\Users\\hyunj\\AppData\\Local\\Temp\\ipykernel_15396\\2137162059.py:27: FutureWarning: Downcasting object dtype arrays on .fillna, .ffill, .bfill is deprecated and will change in a future version. Call result.infer_objects(copy=False) instead. To opt-in to the future behavior, set `pd.set_option('future.no_silent_downcasting', True)`\n",
      "  data[col] = data[col].fillna(data[col].median())\n",
      "c:\\Users\\hyunj\\anaconda3\\Lib\\site-packages\\numpy\\lib\\nanfunctions.py:1215: RuntimeWarning: Mean of empty slice\n",
      "  return np.nanmean(a, axis, out=out, keepdims=keepdims)\n",
      "C:\\Users\\hyunj\\AppData\\Local\\Temp\\ipykernel_15396\\2137162059.py:27: FutureWarning: Downcasting object dtype arrays on .fillna, .ffill, .bfill is deprecated and will change in a future version. Call result.infer_objects(copy=False) instead. To opt-in to the future behavior, set `pd.set_option('future.no_silent_downcasting', True)`\n",
      "  data[col] = data[col].fillna(data[col].median())\n",
      "c:\\Users\\hyunj\\anaconda3\\Lib\\site-packages\\numpy\\lib\\nanfunctions.py:1215: RuntimeWarning: Mean of empty slice\n",
      "  return np.nanmean(a, axis, out=out, keepdims=keepdims)\n",
      "C:\\Users\\hyunj\\AppData\\Local\\Temp\\ipykernel_15396\\2137162059.py:27: FutureWarning: Downcasting object dtype arrays on .fillna, .ffill, .bfill is deprecated and will change in a future version. Call result.infer_objects(copy=False) instead. To opt-in to the future behavior, set `pd.set_option('future.no_silent_downcasting', True)`\n",
      "  data[col] = data[col].fillna(data[col].median())\n",
      "c:\\Users\\hyunj\\anaconda3\\Lib\\site-packages\\numpy\\lib\\nanfunctions.py:1215: RuntimeWarning: Mean of empty slice\n",
      "  return np.nanmean(a, axis, out=out, keepdims=keepdims)\n",
      "C:\\Users\\hyunj\\AppData\\Local\\Temp\\ipykernel_15396\\2137162059.py:27: FutureWarning: Downcasting object dtype arrays on .fillna, .ffill, .bfill is deprecated and will change in a future version. Call result.infer_objects(copy=False) instead. To opt-in to the future behavior, set `pd.set_option('future.no_silent_downcasting', True)`\n",
      "  data[col] = data[col].fillna(data[col].median())\n"
     ]
    }
   ],
   "source": [
    "# %% 데이터 통합\n",
    "# '단속장소' 컬럼이 있는지 확인하고, 없으면 생성 또는 이름 변경\n",
    "if '단속장소' not in illegal_counts.columns:\n",
    "    illegal_counts.rename(columns={illegal_counts.columns[0]: '단속장소'}, inplace=True)\n",
    "if '단속장소' not in cctv_counts.columns:\n",
    "    cctv_counts.rename(columns={cctv_counts.columns[0]: '단속장소'}, inplace=True)\n",
    "if '단속장소' not in city_df.columns:\n",
    "    city_df.rename(columns={city_df.columns[0]: '단속장소'}, inplace=True)\n",
    "if '단속장소' not in clock_df.columns:\n",
    "    clock_df.rename(columns={clock_df.columns[0]: '단속장소'}, inplace=True)\n",
    "if '단속장소' not in weekday_df.columns:\n",
    "    weekday_df.rename(columns={weekday_df.columns[0]: '단속장소'}, inplace=True)\n",
    "if '단속장소' not in month_df.columns:\n",
    "    month_df.rename(columns={month_df.columns[0]: '단속장소'}, inplace=True)\n",
    "\n",
    "# 불법 단속 건수와 기존 CCTV 설치 건수를 단속장소 기준으로 병합\n",
    "data = illegal_counts.merge(cctv_counts, on='단속장소', how='left')\n",
    "# 기타 특성 데이터 병합\n",
    "data = data.merge(city_df[['단속장소', '도심교통량']], on='단속장소', how='left')\n",
    "data = data.merge(clock_df[['단속장소', '시계교통량']], on='단속장소', how='left')\n",
    "data = data.merge(weekday_df[['단속장소', '요일특성']], on='단속장소', how='left')\n",
    "data = data.merge(month_df[['단속장소', '월별특성']], on='단속장소', how='left')\n",
    "\n",
    "# 결측치는 적절한 값으로 대체 (CCTV는 없으면 0, 기타는 중앙값 사용)\n",
    "data['CCTV수'] = data['CCTV수'].fillna(0)\n",
    "for col in ['도심교통량', '시계교통량', '요일특성', '월별특성']:\n",
    "    data[col] = data[col].fillna(data[col].median())"
   ]
  },
  {
   "cell_type": "code",
   "execution_count": 8,
   "metadata": {},
   "outputs": [
    {
     "name": "stdout",
     "output_type": "stream",
     "text": [
      "통합 데이터 미리보기:\n",
      "           단속장소   불법건수  CCTV수  도심교통량  시계교통량  요일특성  월별특성  불법_CCTV비율  설치필요\n",
      "0        21398  64150    0.0    NaN    NaN   NaN   NaN    64150.0     1\n",
      "1  지너스타워 주차장 앞   9723    1.0    NaN    NaN   NaN   NaN     9723.0     1\n",
      "2   리젠트오피스텔건너편   6865    1.0    NaN    NaN   NaN   NaN     6865.0     1\n",
      "3      중곡지구대 앞   5678    1.0    NaN    NaN   NaN   NaN     5678.0     1\n",
      "4  리젠트오피스텔 건너편   5054    0.0    NaN    NaN   NaN   NaN     5054.0     1\n"
     ]
    },
    {
     "name": "stderr",
     "output_type": "stream",
     "text": [
      "C:\\Users\\hyunj\\AppData\\Local\\Temp\\ipykernel_15396\\1693389921.py:5: FutureWarning: A value is trying to be set on a copy of a DataFrame or Series through chained assignment using an inplace method.\n",
      "The behavior will change in pandas 3.0. This inplace method will never work because the intermediate object on which we are setting values always behaves as a copy.\n",
      "\n",
      "For example, when doing 'df[col].method(value, inplace=True)', try using 'df.method({col: value}, inplace=True)' or df[col] = df[col].method(value) instead, to perform the operation inplace on the original object.\n",
      "\n",
      "\n",
      "  data['불법_CCTV비율'].fillna(data['불법건수'], inplace=True)\n"
     ]
    }
   ],
   "source": [
    "# %% 파생 변수 생성 및 타겟 변수 정의\n",
    "# 불법 건수 대비 기존 CCTV 설치 비율 계산\n",
    "# CCTV가 0인 경우 불법 건수를 그대로 사용하도록 함 (즉, 비율이 높아짐)\n",
    "data['불법_CCTV비율'] = data['불법건수'] / data['CCTV수'].replace(0, np.nan)\n",
    "data['불법_CCTV비율'].fillna(data['불법건수'], inplace=True)\n",
    "\n",
    "# 예시: 불법_CCTV비율이 중앙값보다 높으면 추가 CCTV 설치 필요성이 있다고 가정하여 타겟 변수 생성\n",
    "threshold_ratio = data['불법_CCTV비율'].median()\n",
    "data['설치필요'] = (data['불법_CCTV비율'] > threshold_ratio).astype(int)\n",
    "\n",
    "print(\"통합 데이터 미리보기:\\n\", data.head())"
   ]
  },
  {
   "cell_type": "code",
   "execution_count": 9,
   "metadata": {},
   "outputs": [
    {
     "name": "stdout",
     "output_type": "stream",
     "text": [
      "모델 정확도: 1.0\n",
      "모델 AUC: 1.0\n"
     ]
    }
   ],
   "source": [
    "# 특징(feature)와 타겟(target) 분리\n",
    "features = ['불법건수', 'CCTV수', '도심교통량', '시계교통량', '요일특성', '월별특성', '불법_CCTV비율']\n",
    "X = data[features]\n",
    "y = data['설치필요']\n",
    "\n",
    "# 학습/테스트 데이터 분할\n",
    "X_train, X_test, y_train, y_test = train_test_split(X, y, test_size=0.2, random_state=42)\n",
    "\n",
    "# RandomForestClassifier를 이용한 모델 학습\n",
    "model = RandomForestClassifier(n_estimators=100, random_state=42)\n",
    "model.fit(X_train, y_train)\n",
    "\n",
    "# 모델 평가\n",
    "y_pred = model.predict(X_test)\n",
    "accuracy = accuracy_score(y_test, y_pred)\n",
    "auc = roc_auc_score(y_test, model.predict_proba(X_test)[:, 1])\n",
    "print(\"모델 정확도:\", accuracy)\n",
    "print(\"모델 AUC:\", auc)\n"
   ]
  },
  {
   "cell_type": "code",
   "execution_count": 10,
   "metadata": {},
   "outputs": [
    {
     "name": "stdout",
     "output_type": "stream",
     "text": [
      "\n",
      "추가 CCTV 설치 추천 순위 (상위 10):\n",
      "             단속장소  예측설치필요확률\n",
      "0           21398       1.0\n",
      "15166       성광교회앞       1.0\n",
      "15054  아차산로78길153       1.0\n",
      "15053       43191       1.0\n",
      "15052       43221       1.0\n",
      "15051       43252       1.0\n",
      "15050       42675       1.0\n",
      "15049       42644       1.0\n",
      "15048      영화사로13       1.0\n",
      "15047       42614       1.0\n"
     ]
    }
   ],
   "source": [
    "# %% 전체 데이터에 대해 예측 및 추천\n",
    "# 각 단속장소별로 추가 CCTV 설치 필요성 예측 확률 산출\n",
    "data['예측설치필요확률'] = model.predict_proba(X)[:, 1]\n",
    "\n",
    "# 예측 확률이 높은 순으로 정렬하여 상위 후보 도출\n",
    "recommendations = data.sort_values(by='예측설치필요확률', ascending=False)\n",
    "print(\"\\n추가 CCTV 설치 추천 순위 (상위 10):\")\n",
    "print(recommendations[['단속장소', '예측설치필요확률']].head(10))"
   ]
  },
  {
   "cell_type": "code",
   "execution_count": 13,
   "metadata": {},
   "outputs": [
    {
     "data": {
      "image/png": "[encoded data removed]",
      "text/plain": [
       "<IPython.core.display.Image object>"
      ]
     },
     "metadata": {},
     "output_type": "display_data"
    }
   ],
   "source": [
    "from matplotlib.patches import Rectangle\n",
    "from IPython.display import Image, display\n",
    "\n",
    "# 이미지 저장 경로\n",
    "image_path = \"cctv_recommendations_2x5.png\"\n",
    "\n",
    "# 상위 10개 추천 데이터 추출\n",
    "top_recommendations = recommendations[['단속장소', '예측설치필요확률']].head(10).reset_index(drop=True)\n",
    "\n",
    "# 카드 형식으로 시각화 (2x5 레이아웃)\n",
    "fig, ax = plt.subplots(2, 5, figsize=(15, 6))\n",
    "fig.subplots_adjust(wspace=0.5, hspace=0.5)\n",
    "\n",
    "for i, (idx, row) in enumerate(top_recommendations.iterrows()):\n",
    "    row_ax = ax[i // 5, i % 5]\n",
    "    row_ax.axis('off')\n",
    "    # 카드 배경\n",
    "    row_ax.add_patch(Rectangle((0, 0), 1, 1, edgecolor='black', facecolor='lightblue', lw=1))\n",
    "    # 단속장소 텍스트\n",
    "    row_ax.text(0.5, 0.7, f\"단속장소:\\n{row['단속장소']}\", fontsize=10, va='center', ha='center', weight='bold')\n",
    "    # 설치 필요성 확률 텍스트\n",
    "    row_ax.text(0.5, 0.3, f\"{row['예측설치필요확률']:.2%}\", fontsize=10, va='center', ha='center')\n",
    "\n",
    "# 이미지 저장\n",
    "plt.savefig(image_path, dpi=50)\n",
    "plt.close()\n",
    "\n",
    "# Jupyter Notebook에 이미지 표시\n",
    "display(Image(filename=image_path))"
   ]
  }
 ],
 "metadata": {
  "kernelspec": {
   "display_name": "base",
   "language": "python",
   "name": "python3"
  },
  "language_info": {
   "codemirror_mode": {
    "name": "ipython",
    "version": 3
   },
   "file_extension": ".py",
   "mimetype": "text/x-python",
   "name": "python",
   "nbconvert_exporter": "python",
   "pygments_lexer": "ipython3",
   "version": "3.12.4"
  }
 },
 "nbformat": 4,
 "nbformat_minor": 2
}
